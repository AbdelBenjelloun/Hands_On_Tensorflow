{
 "cells": [
  {
   "cell_type": "code",
   "execution_count": 3,
   "metadata": {
    "collapsed": false
   },
   "outputs": [],
   "source": [
    "import numpy as np\n",
    "import pandas as pd\n",
    "import tensorflow as tf\n",
    "import matplotlib.pyplot as plt\n",
    "import utils  #useful to import the data )> to download from the class github"
   ]
  },
  {
   "cell_type": "markdown",
   "metadata": {},
   "source": [
    "## Linear Regression :"
   ]
  },
  {
   "cell_type": "code",
   "execution_count": 4,
   "metadata": {
    "collapsed": false
   },
   "outputs": [
    {
     "name": "stdout",
     "output_type": "stream",
     "text": [
      "number of samples :  190\n",
      "\n",
      " \n",
      "\n",
      "small view of data : \n",
      " [[ 1.822   74.82825]\n",
      " [ 3.869   70.81949]\n",
      " [ 3.911   72.15066]]\n"
     ]
    }
   ],
   "source": [
    "data_path = '/Users/benjelloun/Documents/General_code/Hands_On_Tensorflow/data/birth_life_2010.txt'\n",
    "\n",
    "# Step 1: Get the data == read in data from the .txt file\n",
    "data, n_samples = utils.read_birth_life_data(data_path)\n",
    "print('number of samples : ', n_samples)\n",
    "print('\\n \\n')\n",
    "print('small view of data : \\n', data[:3, :])"
   ]
  },
  {
   "cell_type": "code",
   "execution_count": 5,
   "metadata": {
    "collapsed": false
   },
   "outputs": [],
   "source": [
    "#######________ Create the graph :\n",
    "\n",
    "## 1._ Create placeholders for X and Y :\n",
    "X = tf.placeholder(tf.float32)\n",
    "Y = tf.placeholder(tf.float32)\n",
    "\n",
    "## 2._ Variables of the model w and b : Y_pred = w*X + b\n",
    "W = tf.get_variable(\"myvar_Weights\", [1], initializer=tf.zeros_initializer)\n",
    "b = tf.get_variable(\"myvar_Bias\", [1], initializer=tf.zeros_initializer)"
   ]
  },
  {
   "cell_type": "code",
   "execution_count": 6,
   "metadata": {
    "collapsed": true
   },
   "outputs": [],
   "source": [
    "## 3._ Build the model :\n",
    "Y_pred = tf.add( tf.multiply(W,X), b )\n",
    "\n",
    "## 4._ Define the loss : Least square\n",
    "loss = tf.square(Y - Y_pred, name='Loss')\n",
    "\n",
    "## 5._ Optimisation method :\n",
    "opt = tf.train.GradientDescentOptimizer(learning_rate=0.001).minimize(loss)"
   ]
  },
  {
   "cell_type": "code",
   "execution_count": 16,
   "metadata": {
    "collapsed": false,
    "scrolled": true
   },
   "outputs": [
    {
     "data": {
      "image/png": "[encoded data removed]",
      "text/plain": [
       "<matplotlib.figure.Figure at 0x11c4d6208>"
      ]
     },
     "metadata": {},
     "output_type": "display_data"
    },
    {
     "name": "stdout",
     "output_type": "stream",
     "text": [
      "\n",
      " \n",
      "\n",
      "The final weights is :  [-6.0702143]\n",
      "The final biais is :  [84.92951]\n"
     ]
    }
   ],
   "source": [
    "#######________ Training process :\n",
    "writer = tf.summary.FileWriter('./graphs', tf.get_default_graph())\n",
    "with tf.Session() as sess :\n",
    "    \n",
    "    ## 1._ Initialize the variables :\n",
    "    sess.run(tf.global_variables_initializer())\n",
    "    loss_per_data = []\n",
    "    ## 2._ Train for 200 epochs :\n",
    "    for i in range(100):\n",
    "        \n",
    "        total_loss = 0\n",
    "        \n",
    "        for x,y in data :\n",
    "            ### !!!! Need to define loss_ wih name different than loss, otherwise error !!!!\n",
    "            _, loss_ = sess.run([opt, loss], feed_dict={X:x, Y:y})\n",
    "            total_loss += loss_\n",
    "            \n",
    "        loss_per_data.append([i,total_loss/(i+1)])\n",
    "    writer.close()\n",
    "    \n",
    "    ## Plot the total loss per data\n",
    "    loss_per_data = np.array(loss_per_data)\n",
    "    plt.plot(loss_per_data[:,0], loss_per_data[:,1])\n",
    "    plt.ylabel('Average loss')\n",
    "    plt.xlabel('Number of data')\n",
    "    plt.show()\n",
    "    \n",
    "    #print the final weights and biais\n",
    "    print('\\n \\n')\n",
    "    Weights = W.eval()\n",
    "    biais   = b.eval()\n",
    "    \n",
    "print('The final weights is : ', Weights)\n",
    "print('The final biais is : ', biais)"
   ]
  },
  {
   "cell_type": "code",
   "execution_count": 8,
   "metadata": {
    "collapsed": false
   },
   "outputs": [],
   "source": [
    "## Final model :\n",
    "\n",
    "def Linear_regression_model(x):\n",
    "    \n",
    "    return Weights[0]*x + biais[0]"
   ]
  },
  {
   "cell_type": "markdown",
   "metadata": {},
   "source": [
    "## Plot the result :"
   ]
  },
  {
   "cell_type": "code",
   "execution_count": 13,
   "metadata": {
    "collapsed": false
   },
   "outputs": [
    {
     "data": {
      "image/png": "[encoded data removed]",
      "text/plain": [
       "<matplotlib.figure.Figure at 0x11c3991d0>"
      ]
     },
     "metadata": {},
     "output_type": "display_data"
    }
   ],
   "source": [
    "plt.plot(data[:,0], data[:,1], 'ro')\n",
    "axis_ = np.arange(1,8, 0.1)\n",
    "plt.plot(axis_, Linear_regression_model(axis_))\n",
    "plt.show()"
   ]
  },
  {
   "cell_type": "markdown",
   "metadata": {},
   "source": [
    "## Huber-Loss : \n",
    "\n",
    "Hubber loss is different than L2 loss, it treats the data differently depending on the error :\n",
    "\n",
    "    - if Y - Y_pred is small, take the square L2 : |Y - Y_pred|^2\n",
    "    - if Y - Y_pred is large take the absolute value : |Y - Y_pred|\n",
    "    \n",
    " The mathematic expression is :\n",
    " \n",
    "     $$ L_{\\sigma}(y, f(x)) = \\frac{1}{2} (y - f(x))^2 if |y - f(x)|< \\sigma   $$\n",
    "     \n",
    " else :\n",
    " \n",
    "     $$ L_{\\sigma}(y, f(x)) = \\sigma |y - f(x)| - \\frac{1}{2} \\sigma^2 $$"
   ]
  },
  {
   "cell_type": "code",
   "execution_count": 14,
   "metadata": {
    "collapsed": true
   },
   "outputs": [],
   "source": [
    "def Huber_Loss(Y, Y_pred, sigma=14.0):\n",
    "    \n",
    "    diff = tf.abs(Y - Y_pred)\n",
    "    \n",
    "    def f1(): return 0.5*tf.square(diff)\n",
    "    def f2(): return sigma*diff - 0.5*tf.square(sigma)\n",
    "    \n",
    "    return tf.cond(dif < sigma, f1, f2)"
   ]
  },
  {
   "cell_type": "code",
   "execution_count": null,
   "metadata": {
    "collapsed": true
   },
   "outputs": [],
   "source": []
  }
 ],
 "metadata": {
  "kernelspec": {
   "display_name": "Python 3",
   "language": "python",
   "name": "python3"
  },
  "language_info": {
   "codemirror_mode": {
    "name": "ipython",
    "version": 3
   },
   "file_extension": ".py",
   "mimetype": "text/x-python",
   "name": "python",
   "nbconvert_exporter": "python",
   "pygments_lexer": "ipython3",
   "version": "3.6.0"
  }
 },
 "nbformat": 4,
 "nbformat_minor": 2
}
