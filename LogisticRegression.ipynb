{
 "cells": [
  {
   "cell_type": "code",
   "execution_count": 55,
   "metadata": {
    "collapsed": true
   },
   "outputs": [],
   "source": [
    "## Imports :\n",
    "\n",
    "import numpy as np\n",
    "import tensorflow as tf\n",
    "import numpy.random as npr\n",
    "import pandas as pd\n",
    "import matplotlib.pyplot as plt\n",
    "import utils  #useful to import the data )> to download from the class github\n",
    "import time"
   ]
  },
  {
   "cell_type": "markdown",
   "metadata": {},
   "source": [
    "## Logistic Regression "
   ]
  },
  {
   "cell_type": "markdown",
   "metadata": {
    "collapsed": true
   },
   "source": [
    "Working with MNIST dataset, images 28*28 flattned to 784"
   ]
  },
  {
   "cell_type": "code",
   "execution_count": 56,
   "metadata": {
    "collapsed": false
   },
   "outputs": [
    {
     "name": "stdout",
     "output_type": "stream",
     "text": [
      "Extracting data/mnist/train-images-idx3-ubyte.gz\n",
      "Extracting data/mnist/train-labels-idx1-ubyte.gz\n",
      "Extracting data/mnist/t10k-images-idx3-ubyte.gz\n",
      "Extracting data/mnist/t10k-labels-idx1-ubyte.gz\n",
      "data/mnist/train-images-idx3-ubyte.gz already exists\n",
      "data/mnist/train-labels-idx1-ubyte.gz already exists\n",
      "data/mnist/t10k-images-idx3-ubyte.gz already exists\n",
      "data/mnist/t10k-labels-idx1-ubyte.gz already exists\n"
     ]
    }
   ],
   "source": [
    "#####__________ Import data :\n",
    "\"\"\"\n",
    "Import train and test dataset and define them as tf.dataset\n",
    "\"\"\"\n",
    "## variables for training :\n",
    "learning_rate = 0.01  #learning rate\n",
    "batch_size = 128  #batch size = 128 for the optimisation\n",
    "n_epochs = 30  #number of epochs for training\n",
    "\n",
    "\n",
    "from tensorflow.examples.tutorials.mnist import input_data\n",
    "\n",
    "MNIST = input_data.read_data_sets('data/mnist', one_hot=True)\n",
    "\n",
    "mnist_folder = 'data/mnist'\n",
    "\n",
    "utils.download_mnist(mnist_folder)\n",
    "\n",
    "train, val, test = utils.read_mnist(mnist_folder, flatten=True)\n",
    "\n",
    "train_data = tf.data.Dataset.from_tensor_slices(train)\n",
    "train_data = train_data.shuffle(10000) \n",
    "test_data = tf.data.Dataset.from_tensor_slices(test)\n",
    "\n",
    "train_data = train_data.batch(batch_size)\n",
    "test_data = test_data.batch(batch_size)\n"
   ]
  },
  {
   "cell_type": "code",
   "execution_count": 67,
   "metadata": {
    "collapsed": false
   },
   "outputs": [
    {
     "name": "stdout",
     "output_type": "stream",
     "text": [
      "(?, 784)\n",
      "(784,)\n",
      "(1,)\n",
      "(?, 10)\n"
     ]
    }
   ],
   "source": [
    "#####__________ Model :\n",
    "\n",
    "\n",
    "###### 1.__ Define the iteration process :\n",
    "\n",
    "## __need to define iterator that allows to use train and test data :\n",
    "iterator = tf.data.Iterator.from_structure(train_data.output_types, \n",
    "                                           train_data.output_shapes)\n",
    "## define the iteration process :\n",
    "img, label = iterator.get_next()\n",
    "\n",
    "# Initializer for train_data :\n",
    "train_init = iterator.make_initializer(train_data)\n",
    "# Initializer for train_data :\n",
    "test_init = iterator.make_initializer(test_data)\n",
    "\n",
    "print(img.shape)\n",
    "###### 2._ Construct the LR model :\n",
    "\n",
    "## a_ Weights - biais : trainable variables \n",
    "w = tf.get_variable('WWW_', [784,10], initializer=tf.zeros_initializer)\n",
    "print(W.shape)\n",
    "biais = tf.get_variable('BD_', [10], initializer=tf.zeros_initializer)\n",
    "print(b.shape)\n",
    "\n",
    "## b_ Prediction :\n",
    "Y_pred = tf.matmul(img, w) + b\n",
    "print(Y_pred.shape)\n",
    "## c_ Loss :\n",
    "entropy = tf.nn.softmax_cross_entropy_with_logits(labels=label, logits=Y_pred)\n",
    "loss = tf.reduce_mean(entropy)\n",
    "\n",
    "## d_ Optimizer :\n",
    "opt = tf.train.AdamOptimizer(learning_rate=0.01).minimize(loss)\n",
    "\n",
    "# e._ Get the prediction :\n",
    "preds = tf.nn.softmax(Y_pred)\n",
    "correct_preds = tf.equal(tf.argmax(preds, 1), tf.argmax(label, 1))\n",
    "accuracy = tf.reduce_sum(tf.cast(correct_preds, tf.float32))"
   ]
  },
  {
   "cell_type": "code",
   "execution_count": 68,
   "metadata": {
    "collapsed": false
   },
   "outputs": [
    {
     "name": "stdout",
     "output_type": "stream",
     "text": [
      "Average loss epoch 0: 0.997541657090187\n",
      "Average loss epoch 1: 0.45987462252378464\n",
      "Average loss epoch 2: 0.3867926701903343\n",
      "Average loss epoch 3: 0.36224493756890297\n",
      "Average loss epoch 4: 0.33860072046518325\n",
      "Average loss epoch 5: 0.3222444295883179\n",
      "Average loss epoch 6: 0.30733427330851554\n",
      "Average loss epoch 7: 0.29650204852223394\n",
      "Average loss epoch 8: 0.27878368124365804\n",
      "Average loss epoch 9: 0.2927367128431797\n",
      "Average loss epoch 10: 0.2637898288667202\n",
      "Average loss epoch 11: 0.28055941984057425\n",
      "Average loss epoch 12: 0.28826421722769735\n",
      "Average loss epoch 13: 0.24448995739221574\n",
      "Average loss epoch 14: 0.2606752052903175\n",
      "Average loss epoch 15: 0.26538989692926407\n",
      "Average loss epoch 16: 0.2561419762670994\n",
      "Average loss epoch 17: 0.27516546472907066\n",
      "Average loss epoch 18: 0.27009510770440104\n",
      "Average loss epoch 19: 0.28085223361849787\n",
      "Average loss epoch 20: 0.2447450127452612\n",
      "Average loss epoch 21: 0.24141367748379708\n",
      "Average loss epoch 22: 0.23643141835927964\n",
      "Average loss epoch 23: 0.26385926753282546\n",
      "Average loss epoch 24: 0.2695536106824875\n",
      "Average loss epoch 25: 0.23324981480836868\n",
      "Average loss epoch 26: 0.2669263109564781\n",
      "Average loss epoch 27: 0.23817597962915898\n",
      "Average loss epoch 28: 0.22923707067966462\n",
      "Average loss epoch 29: 0.21840460151433944\n",
      "Total time: 8.836806058883667 seconds\n"
     ]
    }
   ],
   "source": [
    "#####__________ Run the model\n",
    "\n",
    "## run inside a session :\n",
    "with tf.Session() as sess :\n",
    "    \n",
    "    ## 1._ Initialize the variables :\n",
    "    sess.run(tf.global_variables_initializer())\n",
    "    n_batches = int(MNIST.train.num_examples/batch_size)\n",
    "    start_time = time.time()\n",
    "    \n",
    "    ## 2._ Train :\n",
    "    for i in range(n_epochs):\n",
    "        # first initialize the train nit in order to select data from train dataset :\n",
    "        sess.run(train_init)\n",
    "        total_loss = 0\n",
    "        n_batches = 0\n",
    "\n",
    "        while n_batches<20 :\n",
    "            # run optimizer and get the loss :\n",
    "            _, loss_ = sess.run([opt, loss])\n",
    "            total_loss += loss_\n",
    "            n_batches  += 1\n",
    "\n",
    "        \n",
    "        print('Average loss epoch {0}: {1}'.format(i, total_loss/n_batches))\n",
    "        \n",
    "    print('Total time: {0} seconds'.format(time.time() - start_time))\n",
    "    \n",
    "    \n",
    "    ## 3._ Test :\n",
    "    sess.run(test_init)   # drawing samples from test_data\n",
    "    total_correct_preds = 0\n",
    "    try:\n",
    "        while True:\n",
    "            accuracy_batch = sess.run(accuracy)\n",
    "            total_correct_preds += accuracy_batch\n",
    "    except tf.errors.OutOfRangeError:\n",
    "        pass\n"
   ]
  },
  {
   "cell_type": "code",
   "execution_count": null,
   "metadata": {
    "collapsed": true
   },
   "outputs": [],
   "source": []
  }
 ],
 "metadata": {
  "kernelspec": {
   "display_name": "Python 3",
   "language": "python",
   "name": "python3"
  },
  "language_info": {
   "codemirror_mode": {
    "name": "ipython",
    "version": 3
   },
   "file_extension": ".py",
   "mimetype": "text/x-python",
   "name": "python",
   "nbconvert_exporter": "python",
   "pygments_lexer": "ipython3",
   "version": "3.6.0"
  }
 },
 "nbformat": 4,
 "nbformat_minor": 2
}
