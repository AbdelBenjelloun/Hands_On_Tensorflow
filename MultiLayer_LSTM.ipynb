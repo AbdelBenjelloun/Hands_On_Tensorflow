{
 "cells": [
  {
   "cell_type": "code",
   "execution_count": 1,
   "metadata": {
    "collapsed": false
   },
   "outputs": [
    {
     "name": "stdout",
     "output_type": "stream",
     "text": [
      "Extracting /tmp/data/train-images-idx3-ubyte.gz\n",
      "Extracting /tmp/data/train-labels-idx1-ubyte.gz\n",
      "Extracting /tmp/data/t10k-images-idx3-ubyte.gz\n",
      "Extracting /tmp/data/t10k-labels-idx1-ubyte.gz\n"
     ]
    }
   ],
   "source": [
    "### Imports :\n",
    "from __future__ import print_function\n",
    "\n",
    "import tensorflow as tf\n",
    "from tensorflow.contrib import rnn\n",
    "\n",
    "# Import MNIST data\n",
    "from tensorflow.examples.tutorials.mnist import input_data\n",
    "mnist = input_data.read_data_sets(\"/tmp/data/\", one_hot=True)\n",
    "\n",
    "# Training Parameters\n",
    "learning_rate = 0.001\n",
    "training_steps = 10000\n",
    "batch_size = 128\n",
    "display_step = 200\n",
    "\n",
    "# Network Parameters\n",
    "num_input = 28 # MNIST data input (img shape: 28*28)\n",
    "timesteps = 28 # timesteps\n",
    "num_classes = 10 # MNIST total classes (0-9 digits)\n",
    "num_hidden = 128"
   ]
  },
  {
   "cell_type": "code",
   "execution_count": 8,
   "metadata": {
    "collapsed": false
   },
   "outputs": [
    {
     "name": "stdout",
     "output_type": "stream",
     "text": [
      "Step 1, Minibatch Loss= 2.9581, Training Accuracy= 0.086\n",
      "Step 200, Minibatch Loss= 2.2372, Training Accuracy= 0.180\n",
      "Step 400, Minibatch Loss= 2.1198, Training Accuracy= 0.258\n",
      "Step 600, Minibatch Loss= 1.9956, Training Accuracy= 0.289\n",
      "Step 800, Minibatch Loss= 1.8643, Training Accuracy= 0.359\n",
      "Step 1000, Minibatch Loss= 1.7780, Training Accuracy= 0.391\n",
      "Step 1200, Minibatch Loss= 1.6114, Training Accuracy= 0.500\n",
      "Step 1400, Minibatch Loss= 1.5898, Training Accuracy= 0.438\n",
      "Step 1600, Minibatch Loss= 1.5787, Training Accuracy= 0.414\n",
      "Step 1800, Minibatch Loss= 1.5602, Training Accuracy= 0.484\n",
      "Step 2000, Minibatch Loss= 1.4520, Training Accuracy= 0.523\n",
      "Optimization Finished!\n",
      "Testing Accuracy: 0.484375\n"
     ]
    }
   ],
   "source": [
    "# Define weights for the output layer :\n",
    "num_hidden2 = 50\n",
    "# Placeholders for Inputs :\n",
    "X = tf.placeholder(\"float\", [None, timesteps, num_input])\n",
    "Y = tf.placeholder(\"float\", [None, num_classes])\n",
    "weights = {'out': tf.Variable(tf.random_normal([num_hidden2, num_classes]))}\n",
    "biases = {'out': tf.Variable(tf.random_normal([num_classes]))}\n",
    "\n",
    "\"\"\"\n",
    "    ************************ LSTM Multilayer ************************************************\n",
    "\n",
    "\n",
    "\"\"\"\n",
    "\n",
    "def LSTM_multilayer(x, weights, biases, timesteps, num_hidden1=100, num_hidden2=50):\n",
    "    \n",
    "    # Data input shape: (batch_size, timesteps, n_input)\n",
    "    # Unstack to get a list of 'timesteps' tensors of shape (batch_size, n_input)\n",
    "    x = tf.unstack(x, timesteps, 1)\n",
    "    \n",
    "    # First layer of LSTM :\n",
    "    with tf.variable_scope('lstm1', reuse=tf.AUTO_REUSE) as scope:\n",
    "        lstm_cell_1 = rnn.BasicLSTMCell(num_hidden1, forget_bias=1.0)\n",
    "        outputs_1, states_1 = rnn.static_rnn(lstm_cell_1, x, dtype=tf.float32)\n",
    "    \n",
    "    ## select the last elements of the outputs_1 : outputs_1 \n",
    "    input_2 = outputs_1[-num_hidden2:]\n",
    "    \n",
    "    with tf.variable_scope('lstm2', reuse=tf.AUTO_REUSE) as scope:\n",
    "        lstm_cell_2 = rnn.BasicLSTMCell(num_hidden2, forget_bias=1.0)\n",
    "        outputs_2, states_2 = rnn.static_rnn(lstm_cell_2, input_2, dtype=tf.float32)\n",
    "    \n",
    "    return outputs_2, states_2\n",
    "\n",
    "\n",
    "outputs, _ = LSTM_multilayer(X, weights, biases, timesteps, num_hidden1=100, num_hidden2=50)\n",
    "logits = tf.matmul(outputs[-1], weights['out']) + biases['out']\n",
    "prediction = tf.nn.softmax(logits)\n",
    "\n",
    "# Define loss and optimizer\n",
    "loss_op = tf.reduce_mean(tf.nn.softmax_cross_entropy_with_logits(\n",
    "    logits=logits, labels=Y))\n",
    "optimizer = tf.train.GradientDescentOptimizer(learning_rate=learning_rate)\n",
    "train_op = optimizer.minimize(loss_op)\n",
    "\n",
    "# Evaluate model (with test logits, for dropout to be disabled)\n",
    "correct_pred = tf.equal(tf.argmax(prediction, 1), tf.argmax(Y, 1))\n",
    "accuracy = tf.reduce_mean(tf.cast(correct_pred, tf.float32))\n",
    "\n",
    "# Initialize the variables (i.e. assign their default value)\n",
    "init = tf.global_variables_initializer()\n",
    "\n",
    "# Start training\n",
    "with tf.Session() as sess:\n",
    "\n",
    "    # Run the initializer\n",
    "    sess.run(init)\n",
    "\n",
    "    for step in range(1, 2001):\n",
    "        batch_x, batch_y = mnist.train.next_batch(batch_size)\n",
    "        # Reshape data to get 28 seq of 28 elements\n",
    "        batch_x = batch_x.reshape((batch_size, timesteps, num_input))\n",
    "        # Run optimization op (backprop)\n",
    "        sess.run(train_op, feed_dict={X: batch_x, Y: batch_y})\n",
    "        if step % display_step == 0 or step == 1:\n",
    "            # Calculate batch loss and accuracy\n",
    "            loss, acc = sess.run([loss_op, accuracy], feed_dict={X: batch_x,\n",
    "                                                                 Y: batch_y})\n",
    "            print(\"Step \" + str(step) + \", Minibatch Loss= \" + \\\n",
    "                  \"{:.4f}\".format(loss) + \", Training Accuracy= \" + \\\n",
    "                  \"{:.3f}\".format(acc))\n",
    "\n",
    "    print(\"Optimization Finished!\")\n",
    "\n",
    "    # Calculate accuracy for 128 mnist test images\n",
    "    test_len = 128\n",
    "    test_data = mnist.test.images[:test_len].reshape((-1, timesteps, num_input))\n",
    "    test_label = mnist.test.labels[:test_len]\n",
    "    print(\"Testing Accuracy:\", \\\n",
    "        sess.run(accuracy, feed_dict={X: test_data, Y: test_label}))"
   ]
  },
  {
   "cell_type": "code",
   "execution_count": null,
   "metadata": {
    "collapsed": true
   },
   "outputs": [],
   "source": [
    "\"\"\"\n",
    "Not a good result due to the small number of iteration -> need more time and GPU to do more iterations\n",
    "\"\"\""
   ]
  },
  {
   "cell_type": "code",
   "execution_count": null,
   "metadata": {
    "collapsed": true
   },
   "outputs": [],
   "source": []
  },
  {
   "cell_type": "code",
   "execution_count": null,
   "metadata": {
    "collapsed": true
   },
   "outputs": [],
   "source": []
  },
  {
   "cell_type": "code",
   "execution_count": null,
   "metadata": {
    "collapsed": true
   },
   "outputs": [],
   "source": []
  }
 ],
 "metadata": {
  "kernelspec": {
   "display_name": "Python 3",
   "language": "python",
   "name": "python3"
  },
  "language_info": {
   "codemirror_mode": {
    "name": "ipython",
    "version": 3
   },
   "file_extension": ".py",
   "mimetype": "text/x-python",
   "name": "python",
   "nbconvert_exporter": "python",
   "pygments_lexer": "ipython3",
   "version": "3.6.0"
  }
 },
 "nbformat": 4,
 "nbformat_minor": 2
}
