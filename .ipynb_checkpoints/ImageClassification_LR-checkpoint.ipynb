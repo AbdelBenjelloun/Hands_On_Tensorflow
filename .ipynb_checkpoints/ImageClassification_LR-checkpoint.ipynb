{
 "cells": [
  {
   "cell_type": "markdown",
   "metadata": {},
   "source": [
    "# Image classification using logistic regression - notMNIST dataset"
   ]
  },
  {
   "cell_type": "code",
   "execution_count": 2,
   "metadata": {
    "collapsed": true
   },
   "outputs": [],
   "source": [
    "## import the useful libraries :\n",
    "import numpy as np\n",
    "import tensorflow as tf\n",
    "import matplotlib.pyplot as plt\n",
    "import utils\n",
    "import time"
   ]
  },
  {
   "cell_type": "code",
   "execution_count": 3,
   "metadata": {
    "collapsed": true
   },
   "outputs": [],
   "source": [
    "## Create the model with OOP design :\n",
    "class Logistic_Regression:\n",
    "    \n",
    "    ## First the elements of the class :\n",
    "    def __init__(self,   \n",
    "                Input_data,\n",
    "                input_dim=784,\n",
    "                num_classes=10,\n",
    "                batch_size=128, \n",
    "                learning_rate=0.01, \n",
    "                n_epochs=30):\n",
    "        \n",
    "        #data relatd variables :\n",
    "        self.Input_data = Input_data\n",
    "        self.size = input_dim\n",
    "        self.num_classes = num_classes\n",
    "        #hyperparameters :\n",
    "        self.batch_size = batch_size\n",
    "        self.learing_rate = learning_rate\n",
    "        self.n_epochs = n_epochs   \n",
    "    \n",
    "    ## predict the label_ using the Linear regression model     \n",
    "    def prediction(self):    \n",
    "        ##Initialize the weights of the model :\n",
    "        with tf.variable_scope('LR_model', reuse=tf.AUTO_REUSE) as scope:           \n",
    "            W = tf.get_variable('weights', [self.size,self.num_classes], \n",
    "                                initializer=tf.zeros_initializer)\n",
    "            b = tf.get_variable('biais', [self.num_classes], initializer=tf.zeros_initializer)\n",
    "        # get the logits and prediction vector :    \n",
    "        logits = tf.matmul(self.Input_data, W) + b\n",
    "        preds = tf.nn.softmax(logits)\n",
    "        return preds\n",
    "    \n",
    "    ## Optimization method :\n",
    "    def optimize(self, labels):\n",
    "        ## get the prediction using prediction method :\n",
    "        log_prediction_ = tf.log(self.prediction + 1e-20)\n",
    "        loss = -tf.reduce_sum(labels*log_prediction_)  #comput the loss\n",
    "        opt = tf.train.AdamOptimizer(learning_rate=self.learing_rate)  #define the optimizer algorithm\n",
    "        return opt.minimize(loss)  #optimize \n",
    "    \n",
    "    ## Accuracy method :\n",
    "    def accuracy(self, labels):\n",
    "        \n",
    "        prediction_ = self.prediction\n",
    "        correct_preds = tf.equal(tf.argmax(prediction_, 1), tf.argmax(labels, 1))\n",
    "        accuracy = tf.reduce_sum(tf.cast(correct_preds, tf.float32))        \n",
    "        return accuracy"
   ]
  },
  {
   "cell_type": "code",
   "execution_count": null,
   "metadata": {
    "collapsed": true
   },
   "outputs": [],
   "source": [
    "## Training process :\n",
    "\n",
    "###1.____ Import the data :\n",
    "#** To continue the training process !"
   ]
  },
  {
   "cell_type": "code",
   "execution_count": null,
   "metadata": {
    "collapsed": true
   },
   "outputs": [],
   "source": []
  },
  {
   "cell_type": "code",
   "execution_count": null,
   "metadata": {
    "collapsed": true
   },
   "outputs": [],
   "source": []
  },
  {
   "cell_type": "code",
   "execution_count": null,
   "metadata": {
    "collapsed": true
   },
   "outputs": [],
   "source": []
  },
  {
   "cell_type": "code",
   "execution_count": null,
   "metadata": {
    "collapsed": true
   },
   "outputs": [],
   "source": []
  },
  {
   "cell_type": "code",
   "execution_count": null,
   "metadata": {
    "collapsed": true
   },
   "outputs": [],
   "source": []
  },
  {
   "cell_type": "code",
   "execution_count": null,
   "metadata": {
    "collapsed": true
   },
   "outputs": [],
   "source": []
  },
  {
   "cell_type": "code",
   "execution_count": null,
   "metadata": {
    "collapsed": true
   },
   "outputs": [],
   "source": []
  },
  {
   "cell_type": "code",
   "execution_count": null,
   "metadata": {
    "collapsed": true
   },
   "outputs": [],
   "source": []
  },
  {
   "cell_type": "code",
   "execution_count": null,
   "metadata": {
    "collapsed": true
   },
   "outputs": [],
   "source": []
  },
  {
   "cell_type": "code",
   "execution_count": null,
   "metadata": {
    "collapsed": true
   },
   "outputs": [],
   "source": []
  }
 ],
 "metadata": {
  "kernelspec": {
   "display_name": "Python 3",
   "language": "python",
   "name": "python3"
  },
  "language_info": {
   "codemirror_mode": {
    "name": "ipython",
    "version": 3
   },
   "file_extension": ".py",
   "mimetype": "text/x-python",
   "name": "python",
   "nbconvert_exporter": "python",
   "pygments_lexer": "ipython3",
   "version": "3.6.0"
  }
 },
 "nbformat": 4,
 "nbformat_minor": 2
}
